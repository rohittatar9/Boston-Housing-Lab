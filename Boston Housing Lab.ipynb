{
 "cells": [
  {
   "cell_type": "code",
   "execution_count": 2,
   "metadata": {
    "collapsed": true
   },
   "outputs": [],
   "source": [
    "from sklearn import datasets\n",
    "import pandas as pd\n",
    "from sklearn.preprocessing import StandardScaler\n",
    "from sklearn.cross_validation import train_test_split\n",
    "from sklearn.metrics import mean_squared_error\n",
    "from sklearn.metrics import r2_score\n",
    "from sklearn.linear_model import LinearRegression"
   ]
  },
  {
   "cell_type": "code",
   "execution_count": 3,
   "metadata": {
    "collapsed": false
   },
   "outputs": [
    {
     "name": "stdout",
     "output_type": "stream",
     "text": [
      "Boston House Prices dataset\n",
      "\n",
      "Notes\n",
      "------\n",
      "Data Set Characteristics:  \n",
      "\n",
      "    :Number of Instances: 506 \n",
      "\n",
      "    :Number of Attributes: 13 numeric/categorical predictive\n",
      "    \n",
      "    :Median Value (attribute 14) is usually the target\n",
      "\n",
      "    :Attribute Information (in order):\n",
      "        - CRIM     per capita crime rate by town\n",
      "        - ZN       proportion of residential land zoned for lots over 25,000 sq.ft.\n",
      "        - INDUS    proportion of non-retail business acres per town\n",
      "        - CHAS     Charles River dummy variable (= 1 if tract bounds river; 0 otherwise)\n",
      "        - NOX      nitric oxides concentration (parts per 10 million)\n",
      "        - RM       average number of rooms per dwelling\n",
      "        - AGE      proportion of owner-occupied units built prior to 1940\n",
      "        - DIS      weighted distances to five Boston employment centres\n",
      "        - RAD      index of accessibility to radial highways\n",
      "        - TAX      full-value property-tax rate per $10,000\n",
      "        - PTRATIO  pupil-teacher ratio by town\n",
      "        - B        1000(Bk - 0.63)^2 where Bk is the proportion of blacks by town\n",
      "        - LSTAT    % lower status of the population\n",
      "        - MEDV     Median value of owner-occupied homes in $1000's\n",
      "\n",
      "    :Missing Attribute Values: None\n",
      "\n",
      "    :Creator: Harrison, D. and Rubinfeld, D.L.\n",
      "\n",
      "This is a copy of UCI ML housing dataset.\n",
      "http://archive.ics.uci.edu/ml/datasets/Housing\n",
      "\n",
      "\n",
      "This dataset was taken from the StatLib library which is maintained at Carnegie Mellon University.\n",
      "\n",
      "The Boston house-price data of Harrison, D. and Rubinfeld, D.L. 'Hedonic\n",
      "prices and the demand for clean air', J. Environ. Economics & Management,\n",
      "vol.5, 81-102, 1978.   Used in Belsley, Kuh & Welsch, 'Regression diagnostics\n",
      "...', Wiley, 1980.   N.B. Various transformations are used in the table on\n",
      "pages 244-261 of the latter.\n",
      "\n",
      "The Boston house-price data has been used in many machine learning papers that address regression\n",
      "problems.   \n",
      "     \n",
      "**References**\n",
      "\n",
      "   - Belsley, Kuh & Welsch, 'Regression diagnostics: Identifying Influential Data and Sources of Collinearity', Wiley, 1980. 244-261.\n",
      "   - Quinlan,R. (1993). Combining Instance-Based and Model-Based Learning. In Proceedings on the Tenth International Conference of Machine Learning, 236-243, University of Massachusetts, Amherst. Morgan Kaufmann.\n",
      "   - many more! (see http://archive.ics.uci.edu/ml/datasets/Housing)\n",
      "\n"
     ]
    }
   ],
   "source": [
    "bean = datasets.load_boston()\n",
    "print bean.DESCR"
   ]
  },
  {
   "cell_type": "code",
   "execution_count": 4,
   "metadata": {
    "collapsed": true
   },
   "outputs": [],
   "source": [
    "def load_boston():\n",
    "    scaler = StandardScaler()\n",
    "    boston = datasets.load_boston()\n",
    "    X=boston.data\n",
    "    y=boston.target\n",
    "    X = scaler.fit_transform(X)\n",
    "    return train_test_split(X,y)"
   ]
  },
  {
   "cell_type": "code",
   "execution_count": 5,
   "metadata": {
    "collapsed": true
   },
   "outputs": [],
   "source": [
    "X_train, X_test, y_train, y_test = load_boston()"
   ]
  },
  {
   "cell_type": "code",
   "execution_count": 6,
   "metadata": {
    "collapsed": false
   },
   "outputs": [
    {
     "data": {
      "text/plain": [
       "(379L, 13L)"
      ]
     },
     "execution_count": 6,
     "metadata": {},
     "output_type": "execute_result"
    }
   ],
   "source": [
    "X_train.shape"
   ]
  },
  {
   "cell_type": "code",
   "execution_count": 7,
   "metadata": {
    "collapsed": true
   },
   "outputs": [],
   "source": [
    "linReg = LinearRegression()"
   ]
  },
  {
   "cell_type": "code",
   "execution_count": 8,
   "metadata": {
    "collapsed": false
   },
   "outputs": [
    {
     "data": {
      "text/plain": [
       "LinearRegression(copy_X=True, fit_intercept=True, n_jobs=1, normalize=False)"
      ]
     },
     "execution_count": 8,
     "metadata": {},
     "output_type": "execute_result"
    }
   ],
   "source": [
    "linReg.fit(X_train, y_train)"
   ]
  },
  {
   "cell_type": "code",
   "execution_count": 9,
   "metadata": {
    "collapsed": false
   },
   "outputs": [
    {
     "data": {
      "text/plain": [
       "[(21.100000000000001, 22.33833524429906),\n",
       " (7.2000000000000002, 10.099547787992883),\n",
       " (16.5, 21.91599118715251),\n",
       " (16.600000000000001, 15.27388484379345),\n",
       " (23.100000000000001, 23.58830205934801),\n",
       " (28.100000000000001, 25.111013549511004),\n",
       " (20.300000000000001, 18.965651330712621),\n",
       " (19.899999999999999, 18.432912579914888),\n",
       " (27.899999999999999, 32.053011283918082),\n",
       " (21.800000000000001, 21.148843430334878),\n",
       " (14.300000000000001, 14.191178550946637),\n",
       " (17.5, 15.887520275269535),\n",
       " (21.199999999999999, 21.053133828340563),\n",
       " (18.699999999999999, 21.21416478010314),\n",
       " (10.9, 14.046886907634505),\n",
       " (24.5, 20.673325822836617),\n",
       " (11.300000000000001, 14.069235481322206),\n",
       " (13.6, 14.144855748714233),\n",
       " (18.199999999999999, 18.438359712751371),\n",
       " (7.0, 8.7977905907252811),\n",
       " (22.800000000000001, 26.866574023509262),\n",
       " (50.0, 25.574901718250437),\n",
       " (33.399999999999999, 35.83896921464553),\n",
       " (16.800000000000001, 20.878227129589504),\n",
       " (23.199999999999999, 26.812782912328281),\n",
       " (24.399999999999999, 23.693424456215894),\n",
       " (24.699999999999999, 24.495657340281024),\n",
       " (25.100000000000001, 31.658792920481456),\n",
       " (33.0, 22.21983661055274),\n",
       " (25.300000000000001, 24.83372752244405),\n",
       " (41.700000000000003, 37.777184587804392),\n",
       " (50.0, 35.803648284011857),\n",
       " (19.300000000000001, 18.721209714857263),\n",
       " (22.0, 21.535903315502356),\n",
       " (22.800000000000001, 29.13981479948928),\n",
       " (24.300000000000001, 24.733366136274363),\n",
       " (13.4, 14.090380668362886),\n",
       " (22.0, 27.024102350335003),\n",
       " (17.800000000000001, 22.605952756720807),\n",
       " (15.1, 17.798095057099268),\n",
       " (16.699999999999999, 20.003525546147788),\n",
       " (13.1, 20.743954212174692),\n",
       " (24.800000000000001, 24.554111933767366),\n",
       " (13.0, 17.686617532742442),\n",
       " (36.0, 37.027700993739089),\n",
       " (22.800000000000001, 24.258881534852325),\n",
       " (21.899999999999999, 39.196771043061645),\n",
       " (24.699999999999999, 24.224257467486211),\n",
       " (30.100000000000001, 35.59028047233069),\n",
       " (7.5, 14.044250534794099),\n",
       " (22.300000000000001, 26.814649193917472),\n",
       " (20.600000000000001, 21.95760773049458),\n",
       " (11.9, 22.393674126731515),\n",
       " (8.8000000000000007, 5.1045108973427489),\n",
       " (18.5, 12.892245900168035),\n",
       " (14.6, 19.595586381442811),\n",
       " (24.5, 21.105997754766346),\n",
       " (20.899999999999999, 21.347478840602449),\n",
       " (15.4, 15.182712884152327),\n",
       " (13.300000000000001, 16.708213693675404),\n",
       " (6.2999999999999998, 11.564718771632027),\n",
       " (20.600000000000001, 21.739576913953297),\n",
       " (32.5, 31.18387337075001),\n",
       " (29.600000000000001, 23.980657279659255),\n",
       " (26.5, 25.772114757879297),\n",
       " (18.699999999999999, 21.198849525414673),\n",
       " (14.9, 15.833049040804617),\n",
       " (24.800000000000001, 26.655130488271144),\n",
       " (13.300000000000001, 20.675615348135779),\n",
       " (8.6999999999999993, 9.4457923736349159),\n",
       " (19.5, 19.882743526361338),\n",
       " (19.300000000000001, 21.928327453058955),\n",
       " (22.399999999999999, 23.503121744857811),\n",
       " (9.5, 13.760315998121504),\n",
       " (32.399999999999999, 37.845035801121284),\n",
       " (23.0, 23.723211491041287),\n",
       " (13.800000000000001, 20.698472052632923),\n",
       " (10.199999999999999, 17.16474145629094),\n",
       " (24.5, 27.228296530086141),\n",
       " (9.6999999999999993, 10.520118807709938),\n",
       " (23.600000000000001, 30.74038692881718),\n",
       " (50.0, 43.612674054593924),\n",
       " (21.699999999999999, 24.675871287683986),\n",
       " (29.0, 33.406284800201803),\n",
       " (18.399999999999999, 15.761198406763061),\n",
       " (31.699999999999999, 33.247045570571949),\n",
       " (19.899999999999999, 20.542904123533411),\n",
       " (18.5, 19.341857761013326),\n",
       " (31.600000000000001, 32.515465513738697),\n",
       " (24.600000000000001, 24.312493297030294),\n",
       " (33.100000000000001, 36.39390230668792),\n",
       " (27.100000000000001, 26.724862156312184),\n",
       " (7.4000000000000004, 6.0066555456746862),\n",
       " (27.5, 33.849931220467809),\n",
       " (8.8000000000000007, 3.9800207945267196),\n",
       " (20.600000000000001, 15.862970114697266),\n",
       " (15.6, 15.51285391464182),\n",
       " (23.0, 31.14377010416807),\n",
       " (26.399999999999999, 28.976392923122738),\n",
       " (12.699999999999999, 18.339078652443781),\n",
       " (14.5, 18.899906736613801),\n",
       " (19.399999999999999, 23.16904591721848),\n",
       " (16.5, 11.347890689514173),\n",
       " (26.199999999999999, 23.420840253695555),\n",
       " (22.600000000000001, 27.071049329194967),\n",
       " (48.5, 42.282313151254243),\n",
       " (12.699999999999999, 13.51124616399068),\n",
       " (19.800000000000001, 18.368500101554304),\n",
       " (8.5, 7.1427840321637532),\n",
       " (18.899999999999999, 21.282655379324844),\n",
       " (21.399999999999999, 25.00790875773319),\n",
       " (27.899999999999999, 20.64921206984333),\n",
       " (19.899999999999999, 19.438841623473991),\n",
       " (13.9, 13.362857993702725),\n",
       " (23.100000000000001, 24.684711203166504),\n",
       " (15.300000000000001, 22.203519930702825),\n",
       " (42.799999999999997, 28.739403448196811),\n",
       " (19.100000000000001, 19.887620058826549),\n",
       " (31.199999999999999, 28.520953567556347),\n",
       " (12.5, 19.846761958658522),\n",
       " (31.600000000000001, 32.931059855415079),\n",
       " (16.199999999999999, 20.550662623867272),\n",
       " (13.300000000000001, 14.00657685745162),\n",
       " (27.5, 24.780534633143304),\n",
       " (25.0, 24.418591824488825),\n",
       " (44.799999999999997, 38.340139339765123),\n",
       " (17.399999999999999, 15.991563326441923)]"
      ]
     },
     "execution_count": 9,
     "metadata": {},
     "output_type": "execute_result"
    }
   ],
   "source": [
    "zip (y_test, linReg.predict(X_test))"
   ]
  },
  {
   "cell_type": "code",
   "execution_count": 10,
   "metadata": {
    "collapsed": true
   },
   "outputs": [],
   "source": [
    "#R2 score calculation"
   ]
  },
  {
   "cell_type": "code",
   "execution_count": 11,
   "metadata": {
    "collapsed": false
   },
   "outputs": [
    {
     "data": {
      "text/plain": [
       "0.69692313852497634"
      ]
     },
     "execution_count": 11,
     "metadata": {},
     "output_type": "execute_result"
    }
   ],
   "source": [
    "r2_score(y_test, linReg.predict(X_test))"
   ]
  },
  {
   "cell_type": "code",
   "execution_count": 12,
   "metadata": {
    "collapsed": true
   },
   "outputs": [],
   "source": [
    "#MSE calculation"
   ]
  },
  {
   "cell_type": "code",
   "execution_count": 13,
   "metadata": {
    "collapsed": false
   },
   "outputs": [
    {
     "name": "stdout",
     "output_type": "stream",
     "text": [
      "MSE:  24.7352690101\n"
     ]
    }
   ],
   "source": [
    "from math import sqrt\n",
    "mse = mean_squared_error(y_test, linReg.predict(X_test))\n",
    "print \"MSE: \", mse"
   ]
  },
  {
   "cell_type": "code",
   "execution_count": 14,
   "metadata": {
    "collapsed": false
   },
   "outputs": [
    {
     "name": "stdout",
     "output_type": "stream",
     "text": [
      "RMSE:  4.97345644498\n"
     ]
    }
   ],
   "source": [
    "rmse = sqrt(mse)\n",
    "print \"RMSE: \", rmse"
   ]
  },
  {
   "cell_type": "markdown",
   "metadata": {},
   "source": [
    "# Ridge model"
   ]
  },
  {
   "cell_type": "code",
   "execution_count": 16,
   "metadata": {
    "collapsed": false
   },
   "outputs": [
    {
     "data": {
      "text/plain": [
       "Ridge(alpha=1.0, copy_X=True, fit_intercept=True, max_iter=None,\n",
       "   normalize=False, random_state=None, solver='auto', tol=0.001)"
      ]
     },
     "execution_count": 16,
     "metadata": {},
     "output_type": "execute_result"
    }
   ],
   "source": [
    "from sklearn.linear_model import Ridge\n",
    "ridge = Ridge(alpha=1.0)\n",
    "ridge.fit(X_train, y_train)"
   ]
  },
  {
   "cell_type": "code",
   "execution_count": 18,
   "metadata": {
    "collapsed": false
   },
   "outputs": [
    {
     "name": "stdout",
     "output_type": "stream",
     "text": [
      " R2:  0.697537517884\n",
      "MSE:  24.6851271463\n",
      "RMSE:  4.96841294039\n"
     ]
    }
   ],
   "source": [
    "print \"R2: \", r2_score(y_test, ridge.predict(X_test))\n",
    "mse = mean_squared_error(y_test, ridge.predict(X_test))\n",
    "print \"MSE: \", mse\n",
    "print \"RMSE: \", sqrt(mse)"
   ]
  },
  {
   "cell_type": "markdown",
   "metadata": {},
   "source": [
    "# Optimization of Ridge model"
   ]
  },
  {
   "cell_type": "code",
   "execution_count": 19,
   "metadata": {
    "collapsed": false
   },
   "outputs": [
    {
     "name": "stdout",
     "output_type": "stream",
     "text": [
      "R2:  0.701134089103\n",
      "MSE:  24.3915971283\n",
      "RMSE:  4.93878498502\n"
     ]
    }
   ],
   "source": [
    "optRidge = Ridge(alpha=10)\n",
    "optRidge.fit(X_train, y_train)\n",
    "print \"R2: \", r2_score(y_test, optRidge.predict(X_test))\n",
    "mse = mean_squared_error(y_test, optRidge.predict(X_test))\n",
    "print \"MSE: \", mse\n",
    "print \"RMSE: \", sqrt(mse)"
   ]
  },
  {
   "cell_type": "code",
   "execution_count": 20,
   "metadata": {
    "collapsed": false
   },
   "outputs": [
    {
     "name": "stdout",
     "output_type": "stream",
     "text": [
      "R2:  0.700397472629\n",
      "MSE:  24.4517152334\n",
      "RMSE:  4.9448675648\n"
     ]
    }
   ],
   "source": [
    "optRidge = Ridge(alpha=7.5)\n",
    "optRidge.fit(X_train, y_train)\n",
    "print \"R2: \", r2_score(y_test, optRidge.predict(X_test))\n",
    "mse = mean_squared_error(y_test, optRidge.predict(X_test))\n",
    "print \"MSE: \", mse\n",
    "print \"RMSE: \", sqrt(mse)"
   ]
  },
  {
   "cell_type": "markdown",
   "metadata": {},
   "source": [
    "# Finally"
   ]
  },
  {
   "cell_type": "code",
   "execution_count": 22,
   "metadata": {
    "collapsed": false
   },
   "outputs": [],
   "source": [
    "#The performance measured after various methods turns out to be pretty much the same for the given database."
   ]
  }
 ],
 "metadata": {
  "kernelspec": {
   "display_name": "Python [Root]",
   "language": "python",
   "name": "Python [Root]"
  },
  "language_info": {
   "codemirror_mode": {
    "name": "ipython",
    "version": 2
   },
   "file_extension": ".py",
   "mimetype": "text/x-python",
   "name": "python",
   "nbconvert_exporter": "python",
   "pygments_lexer": "ipython2",
   "version": "2.7.12"
  }
 },
 "nbformat": 4,
 "nbformat_minor": 0
}
